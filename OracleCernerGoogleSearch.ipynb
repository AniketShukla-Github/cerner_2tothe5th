#cerner_2tothe5th_2022
#cerner_2^5_2022

'''
Need to install 'beautifulsoup4' and 'google' package before running the code.
The code will list out all the links which we will get by doing google search of 'oracle cerner'
'''

'''
link of code on colab:
https://colab.research.google.com/drive/1uNHG7FQ6tF7lyYKkCQNqtwPfPIGL7MFQ?usp=sharing
'''
try:
	from googlesearch import search
except ImportError:
	print("No module named 'google' found")

# to search
query = "oracle cerner"

for j in search(query, tld="co.in", num=15, stop=15, pause=2):
	print(j)

